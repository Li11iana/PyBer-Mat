{
 "cells": [
  {
   "cell_type": "markdown",
   "metadata": {},
   "source": [
    "# Pyber Challenge\n",
    "V. Isualize has given you and Omar a brand-new assignment. Using your Python skills and knowledge of Pandas, you’ll create a summary DataFrame of the ride-sharing data by city type. Then, using Pandas and Matplotlib, you’ll create a multiple-line graph that shows the total weekly fares for each city type. Finally, you’ll submit a written report that summarizes how the data differs by city type and how those differences can be used by decision-makers at PyBer."
   ]
  },
  {
   "cell_type": "markdown",
   "metadata": {},
   "source": [
    "### Deliverable 1: A ride-sharing summary DataFrame by city type"
   ]
  },
  {
   "cell_type": "code",
<<<<<<< HEAD
   "execution_count": 135,
=======
   "execution_count": 142,
>>>>>>> 82efbe6df8853968b957dc008f8940dea3b108e3
   "metadata": {},
   "outputs": [],
   "source": [
    "# Add Matplotlib inline magic command\n",
    "%matplotlib inline\n",
    "# Dependencies and Setup\n",
    "import matplotlib.pyplot as plt\n",
    "import pandas as pd\n",
    "\n",
    "# File to Load (Remember to change these)\n",
    "city_data_to_load = \"Resources/city_data.csv\"\n",
    "ride_data_to_load = \"Resources/ride_data.csv\"\n",
    "\n",
    "# Read the City and Ride Data\n",
    "city_data_df = pd.read_csv(city_data_to_load)\n",
    "ride_data_df = pd.read_csv(ride_data_to_load)"
   ]
  },
  {
   "cell_type": "markdown",
   "metadata": {},
   "source": [
    "### Merge the DataFrames"
   ]
  },
  {
   "cell_type": "code",
<<<<<<< HEAD
   "execution_count": 136,
=======
   "execution_count": 143,
>>>>>>> 82efbe6df8853968b957dc008f8940dea3b108e3
   "metadata": {
    "scrolled": true
   },
   "outputs": [
    {
     "data": {
      "text/html": [
       "<div>\n",
       "<style scoped>\n",
       "    .dataframe tbody tr th:only-of-type {\n",
       "        vertical-align: middle;\n",
       "    }\n",
       "\n",
       "    .dataframe tbody tr th {\n",
       "        vertical-align: top;\n",
       "    }\n",
       "\n",
       "    .dataframe thead th {\n",
       "        text-align: right;\n",
       "    }\n",
       "</style>\n",
       "<table border=\"1\" class=\"dataframe\">\n",
       "  <thead>\n",
       "    <tr style=\"text-align: right;\">\n",
       "      <th></th>\n",
       "      <th>city</th>\n",
<<<<<<< HEAD
=======
       "      <th>date</th>\n",
       "      <th>fare</th>\n",
       "      <th>ride_id</th>\n",
>>>>>>> 82efbe6df8853968b957dc008f8940dea3b108e3
       "      <th>driver_count</th>\n",
       "      <th>type</th>\n",
       "    </tr>\n",
       "  </thead>\n",
       "  <tbody>\n",
       "    <tr>\n",
       "      <th>0</th>\n",
<<<<<<< HEAD
       "      <td>Richardfort</td>\n",
       "      <td>38</td>\n",
=======
       "      <td>Lake Jonathanshire</td>\n",
       "      <td>2019-01-14 10:14:22</td>\n",
       "      <td>13.83</td>\n",
       "      <td>5739410935873</td>\n",
       "      <td>5</td>\n",
>>>>>>> 82efbe6df8853968b957dc008f8940dea3b108e3
       "      <td>Urban</td>\n",
       "    </tr>\n",
       "    <tr>\n",
       "      <th>1</th>\n",
<<<<<<< HEAD
       "      <td>Williamsstad</td>\n",
       "      <td>59</td>\n",
=======
       "      <td>South Michelleport</td>\n",
       "      <td>2019-03-04 18:24:09</td>\n",
       "      <td>30.24</td>\n",
       "      <td>2343912425577</td>\n",
       "      <td>72</td>\n",
>>>>>>> 82efbe6df8853968b957dc008f8940dea3b108e3
       "      <td>Urban</td>\n",
       "    </tr>\n",
       "    <tr>\n",
       "      <th>2</th>\n",
<<<<<<< HEAD
       "      <td>Port Angela</td>\n",
       "      <td>67</td>\n",
=======
       "      <td>Port Samanthamouth</td>\n",
       "      <td>2019-02-24 04:29:00</td>\n",
       "      <td>33.44</td>\n",
       "      <td>2005065760003</td>\n",
       "      <td>57</td>\n",
>>>>>>> 82efbe6df8853968b957dc008f8940dea3b108e3
       "      <td>Urban</td>\n",
       "    </tr>\n",
       "    <tr>\n",
       "      <th>3</th>\n",
       "      <td>Rodneyfort</td>\n",
<<<<<<< HEAD
=======
       "      <td>2019-02-10 23:22:03</td>\n",
       "      <td>23.44</td>\n",
       "      <td>5149245426178</td>\n",
>>>>>>> 82efbe6df8853968b957dc008f8940dea3b108e3
       "      <td>34</td>\n",
       "      <td>Urban</td>\n",
       "    </tr>\n",
       "    <tr>\n",
       "      <th>4</th>\n",
<<<<<<< HEAD
       "      <td>West Robert</td>\n",
       "      <td>39</td>\n",
=======
       "      <td>South Jack</td>\n",
       "      <td>2019-03-06 04:28:35</td>\n",
       "      <td>34.58</td>\n",
       "      <td>3908451377344</td>\n",
       "      <td>46</td>\n",
       "      <td>Urban</td>\n",
       "    </tr>\n",
       "    <tr>\n",
       "      <th>5</th>\n",
       "      <td>South Latoya</td>\n",
       "      <td>2019-03-11 12:26:48</td>\n",
       "      <td>9.52</td>\n",
       "      <td>1994999424437</td>\n",
       "      <td>10</td>\n",
       "      <td>Urban</td>\n",
       "    </tr>\n",
       "    <tr>\n",
       "      <th>6</th>\n",
       "      <td>New Paulville</td>\n",
       "      <td>2019-02-27 11:17:56</td>\n",
       "      <td>43.25</td>\n",
       "      <td>793208410091</td>\n",
       "      <td>44</td>\n",
       "      <td>Urban</td>\n",
       "    </tr>\n",
       "    <tr>\n",
       "      <th>7</th>\n",
       "      <td>Simpsonburgh</td>\n",
       "      <td>2019-04-26 00:43:24</td>\n",
       "      <td>35.98</td>\n",
       "      <td>111953927754</td>\n",
       "      <td>21</td>\n",
       "      <td>Urban</td>\n",
       "    </tr>\n",
       "    <tr>\n",
       "      <th>8</th>\n",
       "      <td>South Karenland</td>\n",
       "      <td>2019-01-08 03:28:48</td>\n",
       "      <td>35.09</td>\n",
       "      <td>7995623208694</td>\n",
       "      <td>4</td>\n",
       "      <td>Urban</td>\n",
       "    </tr>\n",
       "    <tr>\n",
       "      <th>9</th>\n",
       "      <td>North Jasmine</td>\n",
       "      <td>2019-03-09 06:26:29</td>\n",
       "      <td>42.81</td>\n",
       "      <td>5327642267789</td>\n",
       "      <td>33</td>\n",
       "      <td>Urban</td>\n",
       "    </tr>\n",
       "    <tr>\n",
       "      <th>10</th>\n",
       "      <td>New Kimberlyborough</td>\n",
       "      <td>2019-02-07 01:10:11</td>\n",
       "      <td>9.34</td>\n",
       "      <td>7992781920789</td>\n",
       "      <td>33</td>\n",
       "      <td>Urban</td>\n",
       "    </tr>\n",
       "    <tr>\n",
       "      <th>11</th>\n",
       "      <td>West Angela</td>\n",
       "      <td>2019-01-12 01:45:27</td>\n",
       "      <td>26.86</td>\n",
       "      <td>4820052223501</td>\n",
       "      <td>48</td>\n",
       "      <td>Urban</td>\n",
       "    </tr>\n",
       "    <tr>\n",
       "      <th>12</th>\n",
       "      <td>Rodneyfort</td>\n",
       "      <td>2019-03-02 18:03:20</td>\n",
       "      <td>44.26</td>\n",
       "      <td>2494064867705</td>\n",
       "      <td>34</td>\n",
       "      <td>Urban</td>\n",
       "    </tr>\n",
       "    <tr>\n",
       "      <th>13</th>\n",
       "      <td>West Angela</td>\n",
       "      <td>2019-01-10 12:17:31</td>\n",
       "      <td>12.74</td>\n",
       "      <td>2108723916092</td>\n",
       "      <td>48</td>\n",
       "      <td>Urban</td>\n",
       "    </tr>\n",
       "    <tr>\n",
       "      <th>14</th>\n",
       "      <td>Roberthaven</td>\n",
       "      <td>2019-05-04 14:48:56</td>\n",
       "      <td>25.66</td>\n",
       "      <td>1026197778354</td>\n",
       "      <td>47</td>\n",
>>>>>>> 82efbe6df8853968b957dc008f8940dea3b108e3
       "      <td>Urban</td>\n",
       "    </tr>\n",
       "  </tbody>\n",
       "</table>\n",
       "</div>"
      ],
      "text/plain": [
<<<<<<< HEAD
       "           city  driver_count   type\n",
       "0   Richardfort            38  Urban\n",
       "1  Williamsstad            59  Urban\n",
       "2   Port Angela            67  Urban\n",
       "3    Rodneyfort            34  Urban\n",
       "4   West Robert            39  Urban"
      ]
     },
     "execution_count": 136,
=======
       "                   city                 date   fare        ride_id  \\\n",
       "0    Lake Jonathanshire  2019-01-14 10:14:22  13.83  5739410935873   \n",
       "1    South Michelleport  2019-03-04 18:24:09  30.24  2343912425577   \n",
       "2    Port Samanthamouth  2019-02-24 04:29:00  33.44  2005065760003   \n",
       "3            Rodneyfort  2019-02-10 23:22:03  23.44  5149245426178   \n",
       "4            South Jack  2019-03-06 04:28:35  34.58  3908451377344   \n",
       "5          South Latoya  2019-03-11 12:26:48   9.52  1994999424437   \n",
       "6         New Paulville  2019-02-27 11:17:56  43.25   793208410091   \n",
       "7          Simpsonburgh  2019-04-26 00:43:24  35.98   111953927754   \n",
       "8       South Karenland  2019-01-08 03:28:48  35.09  7995623208694   \n",
       "9         North Jasmine  2019-03-09 06:26:29  42.81  5327642267789   \n",
       "10  New Kimberlyborough  2019-02-07 01:10:11   9.34  7992781920789   \n",
       "11          West Angela  2019-01-12 01:45:27  26.86  4820052223501   \n",
       "12           Rodneyfort  2019-03-02 18:03:20  44.26  2494064867705   \n",
       "13          West Angela  2019-01-10 12:17:31  12.74  2108723916092   \n",
       "14          Roberthaven  2019-05-04 14:48:56  25.66  1026197778354   \n",
       "\n",
       "    driver_count   type  \n",
       "0              5  Urban  \n",
       "1             72  Urban  \n",
       "2             57  Urban  \n",
       "3             34  Urban  \n",
       "4             46  Urban  \n",
       "5             10  Urban  \n",
       "6             44  Urban  \n",
       "7             21  Urban  \n",
       "8              4  Urban  \n",
       "9             33  Urban  \n",
       "10            33  Urban  \n",
       "11            48  Urban  \n",
       "12            34  Urban  \n",
       "13            48  Urban  \n",
       "14            47  Urban  "
      ]
     },
     "execution_count": 143,
>>>>>>> 82efbe6df8853968b957dc008f8940dea3b108e3
     "metadata": {},
     "output_type": "execute_result"
    }
   ],
   "source": [
    "# Combine the data into a single dataset\n",
    "pyber_data_df = pd.merge(ride_data_df, city_data_df, how=\"left\", on=[\"city\", \"city\"])\n",
    "\n",
    "# Display the data table for preview\n",
<<<<<<< HEAD
    "city_data_df.head()"
=======
    "pyber_data_df.head(15)"
>>>>>>> 82efbe6df8853968b957dc008f8940dea3b108e3
   ]
  },
  {
   "cell_type": "markdown",
   "metadata": {},
   "source": [
<<<<<<< HEAD
    "## Deliverable 1: Get a Summary DataFrame "
=======
    "## Deliverable 1: A ride-sharing summary DataFrame by city type"
>>>>>>> 82efbe6df8853968b957dc008f8940dea3b108e3
   ]
  },
  {
   "cell_type": "code",
<<<<<<< HEAD
   "execution_count": 137,
=======
   "execution_count": 144,
   "metadata": {},
   "outputs": [
    {
     "data": {
      "text/plain": [
       "Urban       1625\n",
       "Suburban     625\n",
       "Rural        125\n",
       "Name: type, dtype: int64"
      ]
     },
     "execution_count": 144,
     "metadata": {},
     "output_type": "execute_result"
    }
   ],
   "source": [
    "#  1. Get the total rides for each city type\n",
    "pyber_data_df['type'].value_counts()"
   ]
  },
  {
   "cell_type": "code",
   "execution_count": 145,
>>>>>>> 82efbe6df8853968b957dc008f8940dea3b108e3
   "metadata": {},
   "outputs": [
    {
     "data": {
      "text/plain": [
       "type\n",
       "Rural        125\n",
       "Suburban     625\n",
       "Urban       1625\n",
       "Name: ride_id, dtype: int64"
      ]
     },
<<<<<<< HEAD
     "execution_count": 137,
=======
     "execution_count": 145,
>>>>>>> 82efbe6df8853968b957dc008f8940dea3b108e3
     "metadata": {},
     "output_type": "execute_result"
    }
   ],
   "source": [
    "#  1. Get the total rides for each city type\n",
<<<<<<< HEAD
    "rides = pyber_data_df.groupby(['type']).count()['ride_id']\n",
    "rides"
=======
    "groupped_pyber_df = pyber_data_df.groupby(['type'])\n",
    "rides_total = groupped_pyber_df['ride_id'].count()\n",
    "rides_total"
>>>>>>> 82efbe6df8853968b957dc008f8940dea3b108e3
   ]
  },
  {
   "cell_type": "code",
<<<<<<< HEAD
   "execution_count": 138,
=======
   "execution_count": 146,
   "metadata": {},
   "outputs": [
    {
     "data": {
      "text/plain": [
       "type\n",
       "Rural        125\n",
       "Suburban     625\n",
       "Urban       1625\n",
       "Name: ride_id, dtype: int64"
      ]
     },
     "execution_count": 146,
     "metadata": {},
     "output_type": "execute_result"
    }
   ],
   "source": [
    "#  1. Get the total rides for each city type\n",
    "groupped_pyber_df = pyber_data_df.groupby(['type'])\n",
    "rides_total = groupped_pyber_df['ride_id'].count()\n",
    "rides_total"
   ]
  },
  {
   "cell_type": "code",
   "execution_count": 147,
>>>>>>> 82efbe6df8853968b957dc008f8940dea3b108e3
   "metadata": {},
   "outputs": [
    {
     "data": {
      "text/plain": [
       "type\n",
       "Rural         78\n",
       "Suburban     490\n",
       "Urban       2405\n",
       "Name: driver_count, dtype: int64"
      ]
     },
<<<<<<< HEAD
     "execution_count": 138,
=======
     "execution_count": 147,
>>>>>>> 82efbe6df8853968b957dc008f8940dea3b108e3
     "metadata": {},
     "output_type": "execute_result"
    }
   ],
   "source": [
    "# 2. Get the total drivers for each city type\n",
<<<<<<< HEAD
    "drivers = city_data_df.groupby(['type']).sum()['driver_count']\n",
    "drivers"
=======
    "total_drivers = city_data_df.groupby(['type']).sum()['driver_count']\n",
    "total_drivers"
>>>>>>> 82efbe6df8853968b957dc008f8940dea3b108e3
   ]
  },
  {
   "cell_type": "code",
<<<<<<< HEAD
   "execution_count": 139,
=======
   "execution_count": 148,
   "metadata": {},
   "outputs": [],
   "source": [
    "# 2. Get the total drivers for each city type WRONG DATASET\n",
    "# pyber_data_df.groupby(['type']).sum()[\"driver_count\"]\n"
   ]
  },
  {
   "cell_type": "code",
   "execution_count": 149,
>>>>>>> 82efbe6df8853968b957dc008f8940dea3b108e3
   "metadata": {},
   "outputs": [
    {
     "data": {
      "text/plain": [
       "type\n",
       "Rural        4327.93\n",
       "Suburban    19356.33\n",
       "Urban       39854.38\n",
       "Name: fare, dtype: float64"
      ]
     },
<<<<<<< HEAD
     "execution_count": 139,
=======
     "execution_count": 149,
>>>>>>> 82efbe6df8853968b957dc008f8940dea3b108e3
     "metadata": {},
     "output_type": "execute_result"
    }
   ],
   "source": [
    "#  3. Get the total amount of fares for each city type\n",
<<<<<<< HEAD
    "fares = pyber_data_df.groupby(['type']).sum()['fare']\n",
    "fares"
=======
    "#  WHY DOES THIS DF WORKS? HOW do merges work? types of merge\n",
    "total_fare = pyber_data_df.groupby(['type']).sum()['fare']\n",
    "total_fare"
>>>>>>> 82efbe6df8853968b957dc008f8940dea3b108e3
   ]
  },
  {
   "cell_type": "code",
<<<<<<< HEAD
   "execution_count": 140,
=======
   "execution_count": 150,
>>>>>>> 82efbe6df8853968b957dc008f8940dea3b108e3
   "metadata": {},
   "outputs": [
    {
     "data": {
      "text/plain": [
       "type\n",
<<<<<<< HEAD
       "Rural       34.62\n",
       "Suburban    30.97\n",
       "Urban       24.53\n",
       "dtype: float64"
      ]
     },
     "execution_count": 140,
=======
       "Rural       34.623440\n",
       "Suburban    30.970128\n",
       "Urban       24.525772\n",
       "dtype: float64"
      ]
     },
     "execution_count": 150,
>>>>>>> 82efbe6df8853968b957dc008f8940dea3b108e3
     "metadata": {},
     "output_type": "execute_result"
    }
   ],
   "source": [
    "#  4. Get the average fare per ride for each city type. \n",
<<<<<<< HEAD
    "mean_ride_fare = round((fares/rides),2)\n",
    "mean_ride_fare"
=======
    "ave_fare_rides = (groupped_fare / groupped_rides)\n",
    "ave_fare_rides"
>>>>>>> 82efbe6df8853968b957dc008f8940dea3b108e3
   ]
  },
  {
   "cell_type": "code",
<<<<<<< HEAD
   "execution_count": 141,
=======
   "execution_count": 151,
   "metadata": {},
   "outputs": [],
   "source": [
    "# 5. Get the average fare per driver for each city type. \n",
    "# ave_fare_driver = (groupped_pyber_df['fare'].sum()) / (groupped_pyber_df['driver_count'].sum())\n",
    "# ave_fare_driver"
   ]
  },
  {
   "cell_type": "code",
   "execution_count": 152,
>>>>>>> 82efbe6df8853968b957dc008f8940dea3b108e3
   "metadata": {},
   "outputs": [
    {
     "data": {
      "text/plain": [
       "type\n",
<<<<<<< HEAD
       "Rural       55.49\n",
       "Suburban    39.50\n",
       "Urban       16.57\n",
       "dtype: float64"
      ]
     },
     "execution_count": 141,
=======
       "Rural       8.059460\n",
       "Suburban    2.258615\n",
       "Urban       0.668675\n",
       "dtype: float64"
      ]
     },
     "execution_count": 152,
>>>>>>> 82efbe6df8853968b957dc008f8940dea3b108e3
     "metadata": {},
     "output_type": "execute_result"
    }
   ],
   "source": [
    "# 5. Get the average fare per driver for each city type. \n",
<<<<<<< HEAD
    "mean_drive_fare = round((fares/drivers),2)\n",
    "mean_drive_fare"
=======
    "ave_fare_driver = (groupped_fare / groupped_drivers)\n",
    "ave_fare_driver"
>>>>>>> 82efbe6df8853968b957dc008f8940dea3b108e3
   ]
  },
  {
   "cell_type": "code",
<<<<<<< HEAD
   "execution_count": 142,
=======
   "execution_count": 153,
>>>>>>> 82efbe6df8853968b957dc008f8940dea3b108e3
   "metadata": {},
   "outputs": [
    {
     "data": {
      "text/html": [
       "<div>\n",
       "<style scoped>\n",
       "    .dataframe tbody tr th:only-of-type {\n",
       "        vertical-align: middle;\n",
       "    }\n",
       "\n",
       "    .dataframe tbody tr th {\n",
       "        vertical-align: top;\n",
       "    }\n",
       "\n",
       "    .dataframe thead th {\n",
       "        text-align: right;\n",
       "    }\n",
       "</style>\n",
       "<table border=\"1\" class=\"dataframe\">\n",
       "  <thead>\n",
       "    <tr style=\"text-align: right;\">\n",
       "      <th></th>\n",
       "      <th>Total Rides</th>\n",
       "      <th>Total Drivers</th>\n",
       "      <th>Total Fares</th>\n",
       "      <th>Average Fare per Ride</th>\n",
       "      <th>Average Fare per Driver</th>\n",
       "    </tr>\n",
       "    <tr>\n",
       "      <th>type</th>\n",
       "      <th></th>\n",
       "      <th></th>\n",
       "      <th></th>\n",
       "      <th></th>\n",
       "      <th></th>\n",
       "    </tr>\n",
       "  </thead>\n",
       "  <tbody>\n",
       "    <tr>\n",
       "      <th>Rural</th>\n",
       "      <td>125</td>\n",
       "      <td>78</td>\n",
       "      <td>4327.93</td>\n",
<<<<<<< HEAD
       "      <td>34.62</td>\n",
       "      <td>55.49</td>\n",
=======
       "      <td>34.623440</td>\n",
       "      <td>8.059460</td>\n",
>>>>>>> 82efbe6df8853968b957dc008f8940dea3b108e3
       "    </tr>\n",
       "    <tr>\n",
       "      <th>Suburban</th>\n",
       "      <td>625</td>\n",
       "      <td>490</td>\n",
       "      <td>19356.33</td>\n",
<<<<<<< HEAD
       "      <td>30.97</td>\n",
       "      <td>39.50</td>\n",
=======
       "      <td>30.970128</td>\n",
       "      <td>2.258615</td>\n",
>>>>>>> 82efbe6df8853968b957dc008f8940dea3b108e3
       "    </tr>\n",
       "    <tr>\n",
       "      <th>Urban</th>\n",
       "      <td>1625</td>\n",
       "      <td>2405</td>\n",
       "      <td>39854.38</td>\n",
<<<<<<< HEAD
       "      <td>24.53</td>\n",
       "      <td>16.57</td>\n",
=======
       "      <td>24.525772</td>\n",
       "      <td>0.668675</td>\n",
>>>>>>> 82efbe6df8853968b957dc008f8940dea3b108e3
       "    </tr>\n",
       "  </tbody>\n",
       "</table>\n",
       "</div>"
      ],
      "text/plain": [
       "          Total Rides  Total Drivers  Total Fares  Average Fare per Ride  \\\n",
       "type                                                                       \n",
<<<<<<< HEAD
       "Rural             125             78      4327.93                  34.62   \n",
       "Suburban          625            490     19356.33                  30.97   \n",
       "Urban            1625           2405     39854.38                  24.53   \n",
       "\n",
       "          Average Fare per Driver  \n",
       "type                               \n",
       "Rural                       55.49  \n",
       "Suburban                    39.50  \n",
       "Urban                       16.57  "
      ]
     },
     "execution_count": 142,
=======
       "Rural             125             78      4327.93              34.623440   \n",
       "Suburban          625            490     19356.33              30.970128   \n",
       "Urban            1625           2405     39854.38              24.525772   \n",
       "\n",
       "          Average Fare per Driver  \n",
       "type                               \n",
       "Rural                    8.059460  \n",
       "Suburban                 2.258615  \n",
       "Urban                    0.668675  "
      ]
     },
     "execution_count": 153,
>>>>>>> 82efbe6df8853968b957dc008f8940dea3b108e3
     "metadata": {},
     "output_type": "execute_result"
    }
   ],
   "source": [
    "#  6. Create a PyBer summary DataFrame. \n",
<<<<<<< HEAD
    "summary_df = pd.DataFrame({\n",
    "    'Total Rides': rides,\n",
    "    'Total Drivers' : drivers,\n",
    "    'Total Fares' : fares,\n",
    "    'Average Fare per Ride' : mean_ride_fare,\n",
    "    'Average Fare per Driver' : mean_drive_fare})\n",
    "summary_df"
=======
    "summary_table = pd.DataFrame({\n",
    "    'Total Rides': rides_total, \n",
    "    'Total Drivers': total_drivers, \n",
    "    'Total Fares': total_fare, \n",
    "    'Average Fare per Ride' : ave_fare_rides, \n",
    "    'Average Fare per Driver' : ave_fare_driver })\n",
    "summary_table"
>>>>>>> 82efbe6df8853968b957dc008f8940dea3b108e3
   ]
  },
  {
   "cell_type": "code",
<<<<<<< HEAD
   "execution_count": 143,
=======
   "execution_count": 154,
>>>>>>> 82efbe6df8853968b957dc008f8940dea3b108e3
   "metadata": {},
   "outputs": [],
   "source": [
    "#  7. Cleaning up the DataFrame. Delete the index name\n",
<<<<<<< HEAD
    "summary_df.index.name = None"
=======
    "# summary_table.index.name = 'test'\n",
    "# summary_table"
>>>>>>> 82efbe6df8853968b957dc008f8940dea3b108e3
   ]
  },
  {
   "cell_type": "code",
<<<<<<< HEAD
   "execution_count": 144,
=======
   "execution_count": 155,
>>>>>>> 82efbe6df8853968b957dc008f8940dea3b108e3
   "metadata": {},
   "outputs": [
    {
     "data": {
      "text/html": [
<<<<<<< HEAD
       "<style type=\"text/css\">\n",
       "</style>\n",
       "<table id=\"T_957e1\">\n",
       "  <thead>\n",
       "    <tr>\n",
       "      <th class=\"blank level0\" >&nbsp;</th>\n",
       "      <th id=\"T_957e1_level0_col0\" class=\"col_heading level0 col0\" >Total Rides</th>\n",
       "      <th id=\"T_957e1_level0_col1\" class=\"col_heading level0 col1\" >Total Drivers</th>\n",
       "      <th id=\"T_957e1_level0_col2\" class=\"col_heading level0 col2\" >Total Fares</th>\n",
       "      <th id=\"T_957e1_level0_col3\" class=\"col_heading level0 col3\" >Average Fare per Ride</th>\n",
       "      <th id=\"T_957e1_level0_col4\" class=\"col_heading level0 col4\" >Average Fare per Driver</th>\n",
=======
       "<div>\n",
       "<style scoped>\n",
       "    .dataframe tbody tr th:only-of-type {\n",
       "        vertical-align: middle;\n",
       "    }\n",
       "\n",
       "    .dataframe tbody tr th {\n",
       "        vertical-align: top;\n",
       "    }\n",
       "\n",
       "    .dataframe thead th {\n",
       "        text-align: right;\n",
       "    }\n",
       "</style>\n",
       "<table border=\"1\" class=\"dataframe\">\n",
       "  <thead>\n",
       "    <tr style=\"text-align: right;\">\n",
       "      <th></th>\n",
       "      <th>Total Rides</th>\n",
       "      <th>Total Drivers</th>\n",
       "      <th>Total Fares</th>\n",
       "      <th>Average Fare per Ride</th>\n",
       "      <th>Average Fare per Driver</th>\n",
>>>>>>> 82efbe6df8853968b957dc008f8940dea3b108e3
       "    </tr>\n",
       "  </thead>\n",
       "  <tbody>\n",
       "    <tr>\n",
<<<<<<< HEAD
       "      <th id=\"T_957e1_level0_row0\" class=\"row_heading level0 row0\" >Rural</th>\n",
       "      <td id=\"T_957e1_row0_col0\" class=\"data row0 col0\" >125</td>\n",
       "      <td id=\"T_957e1_row0_col1\" class=\"data row0 col1\" >78</td>\n",
       "      <td id=\"T_957e1_row0_col2\" class=\"data row0 col2\" >$               4,328</td>\n",
       "      <td id=\"T_957e1_row0_col3\" class=\"data row0 col3\" >$                  35</td>\n",
       "      <td id=\"T_957e1_row0_col4\" class=\"data row0 col4\" >$                  55</td>\n",
       "    </tr>\n",
       "    <tr>\n",
       "      <th id=\"T_957e1_level0_row1\" class=\"row_heading level0 row1\" >Suburban</th>\n",
       "      <td id=\"T_957e1_row1_col0\" class=\"data row1 col0\" >625</td>\n",
       "      <td id=\"T_957e1_row1_col1\" class=\"data row1 col1\" >490</td>\n",
       "      <td id=\"T_957e1_row1_col2\" class=\"data row1 col2\" >$              19,356</td>\n",
       "      <td id=\"T_957e1_row1_col3\" class=\"data row1 col3\" >$                  31</td>\n",
       "      <td id=\"T_957e1_row1_col4\" class=\"data row1 col4\" >$                  40</td>\n",
       "    </tr>\n",
       "    <tr>\n",
       "      <th id=\"T_957e1_level0_row2\" class=\"row_heading level0 row2\" >Urban</th>\n",
       "      <td id=\"T_957e1_row2_col0\" class=\"data row2 col0\" >1,625</td>\n",
       "      <td id=\"T_957e1_row2_col1\" class=\"data row2 col1\" >2,405</td>\n",
       "      <td id=\"T_957e1_row2_col2\" class=\"data row2 col2\" >$              39,854</td>\n",
       "      <td id=\"T_957e1_row2_col3\" class=\"data row2 col3\" >$                  25</td>\n",
       "      <td id=\"T_957e1_row2_col4\" class=\"data row2 col4\" >$                  17</td>\n",
       "    </tr>\n",
       "  </tbody>\n",
       "</table>\n"
      ],
      "text/plain": [
       "<pandas.io.formats.style.Styler at 0x1e69b9a3a90>"
      ]
     },
     "execution_count": 144,
=======
       "      <th>Rural</th>\n",
       "      <td>125</td>\n",
       "      <td>78</td>\n",
       "      <td>4327.93</td>\n",
       "      <td>34.623440</td>\n",
       "      <td>8.059460</td>\n",
       "    </tr>\n",
       "    <tr>\n",
       "      <th>Suburban</th>\n",
       "      <td>625</td>\n",
       "      <td>490</td>\n",
       "      <td>19356.33</td>\n",
       "      <td>30.970128</td>\n",
       "      <td>2.258615</td>\n",
       "    </tr>\n",
       "    <tr>\n",
       "      <th>Urban</th>\n",
       "      <td>1625</td>\n",
       "      <td>2405</td>\n",
       "      <td>39854.38</td>\n",
       "      <td>24.525772</td>\n",
       "      <td>0.668675</td>\n",
       "    </tr>\n",
       "  </tbody>\n",
       "</table>\n",
       "</div>"
      ],
      "text/plain": [
       "          Total Rides  Total Drivers  Total Fares  Average Fare per Ride  \\\n",
       "Rural             125             78      4327.93              34.623440   \n",
       "Suburban          625            490     19356.33              30.970128   \n",
       "Urban            1625           2405     39854.38              24.525772   \n",
       "\n",
       "          Average Fare per Driver  \n",
       "Rural                    8.059460  \n",
       "Suburban                 2.258615  \n",
       "Urban                    0.668675  "
      ]
     },
     "execution_count": 155,
>>>>>>> 82efbe6df8853968b957dc008f8940dea3b108e3
     "metadata": {},
     "output_type": "execute_result"
    }
   ],
   "source": [
<<<<<<< HEAD
    "summary_format_df = summary_df.style.format({\n",
    "    'Total Rides': '{:,d}',\n",
    "    'Total Drivers': '{:,d}',\n",
    "    'Total Fares': '${:20,.0f}',\n",
    "    'Average Fare per Ride': '${:20,.0f}',\n",
    "    'Average Fare per Driver':'${:20,.0f}'\n",
    "    })\n",
    "\n",
    "summary_format_df\n"
=======
    "#  7. Cleaning up the DataFrame. Delete the index name\n",
    "summary_table.index.name = None\n",
    "summary_table"
>>>>>>> 82efbe6df8853968b957dc008f8940dea3b108e3
   ]
  },
  {
   "cell_type": "code",
<<<<<<< HEAD
   "execution_count": 146,
   "metadata": {},
   "outputs": [
    {
     "data": {
      "text/html": [
       "<style type=\"text/css\">\n",
       "</style>\n",
       "<table id=\"T_669f5\">\n",
       "  <thead>\n",
       "    <tr>\n",
       "      <th class=\"blank level0\" >&nbsp;</th>\n",
       "      <th id=\"T_669f5_level0_col0\" class=\"col_heading level0 col0\" >Total Rides</th>\n",
       "      <th id=\"T_669f5_level0_col1\" class=\"col_heading level0 col1\" >Total Drivers</th>\n",
       "      <th id=\"T_669f5_level0_col2\" class=\"col_heading level0 col2\" >Total Fares</th>\n",
       "      <th id=\"T_669f5_level0_col3\" class=\"col_heading level0 col3\" >Average Fare per Ride</th>\n",
       "      <th id=\"T_669f5_level0_col4\" class=\"col_heading level0 col4\" >Average Fare per Driver</th>\n",
       "    </tr>\n",
       "  </thead>\n",
       "  <tbody>\n",
       "    <tr>\n",
       "      <th id=\"T_669f5_level0_row0\" class=\"row_heading level0 row0\" >Rural</th>\n",
       "      <td id=\"T_669f5_row0_col0\" class=\"data row0 col0\" >125</td>\n",
       "      <td id=\"T_669f5_row0_col1\" class=\"data row0 col1\" >78</td>\n",
       "      <td id=\"T_669f5_row0_col2\" class=\"data row0 col2\" >$               4,328</td>\n",
       "      <td id=\"T_669f5_row0_col3\" class=\"data row0 col3\" >$34.62</td>\n",
       "      <td id=\"T_669f5_row0_col4\" class=\"data row0 col4\" >$55.49</td>\n",
       "    </tr>\n",
       "    <tr>\n",
       "      <th id=\"T_669f5_level0_row1\" class=\"row_heading level0 row1\" >Suburban</th>\n",
       "      <td id=\"T_669f5_row1_col0\" class=\"data row1 col0\" >625</td>\n",
       "      <td id=\"T_669f5_row1_col1\" class=\"data row1 col1\" >490</td>\n",
       "      <td id=\"T_669f5_row1_col2\" class=\"data row1 col2\" >$              19,356</td>\n",
       "      <td id=\"T_669f5_row1_col3\" class=\"data row1 col3\" >$30.97</td>\n",
       "      <td id=\"T_669f5_row1_col4\" class=\"data row1 col4\" >$39.5</td>\n",
       "    </tr>\n",
       "    <tr>\n",
       "      <th id=\"T_669f5_level0_row2\" class=\"row_heading level0 row2\" >Urban</th>\n",
       "      <td id=\"T_669f5_row2_col0\" class=\"data row2 col0\" >1,625</td>\n",
       "      <td id=\"T_669f5_row2_col1\" class=\"data row2 col1\" >2,405</td>\n",
       "      <td id=\"T_669f5_row2_col2\" class=\"data row2 col2\" >$              39,854</td>\n",
       "      <td id=\"T_669f5_row2_col3\" class=\"data row2 col3\" >$24.53</td>\n",
       "      <td id=\"T_669f5_row2_col4\" class=\"data row2 col4\" >$16.57</td>\n",
       "    </tr>\n",
       "  </tbody>\n",
       "</table>\n"
      ],
      "text/plain": [
       "<pandas.io.formats.style.Styler at 0x1e69c04aca0>"
      ]
     },
     "execution_count": 146,
=======
   "execution_count": 156,
   "metadata": {},
   "outputs": [
    {
     "ename": "KeyError",
     "evalue": "'$'",
     "output_type": "error",
     "traceback": [
      "\u001b[1;31m---------------------------------------------------------------------------\u001b[0m",
      "\u001b[1;31mKeyError\u001b[0m                                  Traceback (most recent call last)",
      "File \u001b[1;32mc:\\Users\\Brant Daye\\anaconda3\\lib\\site-packages\\IPython\\core\\formatters.py:343\u001b[0m, in \u001b[0;36mBaseFormatter.__call__\u001b[1;34m(self, obj)\u001b[0m\n\u001b[0;32m    341\u001b[0m     method \u001b[39m=\u001b[39m get_real_method(obj, \u001b[39mself\u001b[39m\u001b[39m.\u001b[39mprint_method)\n\u001b[0;32m    342\u001b[0m     \u001b[39mif\u001b[39;00m method \u001b[39mis\u001b[39;00m \u001b[39mnot\u001b[39;00m \u001b[39mNone\u001b[39;00m:\n\u001b[1;32m--> 343\u001b[0m         \u001b[39mreturn\u001b[39;00m method()\n\u001b[0;32m    344\u001b[0m     \u001b[39mreturn\u001b[39;00m \u001b[39mNone\u001b[39;00m\n\u001b[0;32m    345\u001b[0m \u001b[39melse\u001b[39;00m:\n",
      "File \u001b[1;32mc:\\Users\\Brant Daye\\anaconda3\\lib\\site-packages\\pandas\\io\\formats\\style.py:272\u001b[0m, in \u001b[0;36mStyler._repr_html_\u001b[1;34m(self)\u001b[0m\n\u001b[0;32m    267\u001b[0m \u001b[39m\"\"\"\u001b[39;00m\n\u001b[0;32m    268\u001b[0m \u001b[39mHooks into Jupyter notebook rich display system, which calls _repr_html_ by\u001b[39;00m\n\u001b[0;32m    269\u001b[0m \u001b[39mdefault if an object is returned at the end of a cell.\u001b[39;00m\n\u001b[0;32m    270\u001b[0m \u001b[39m\"\"\"\u001b[39;00m\n\u001b[0;32m    271\u001b[0m \u001b[39mif\u001b[39;00m get_option(\u001b[39m\"\u001b[39m\u001b[39mstyler.render.repr\u001b[39m\u001b[39m\"\u001b[39m) \u001b[39m==\u001b[39m \u001b[39m\"\u001b[39m\u001b[39mhtml\u001b[39m\u001b[39m\"\u001b[39m:\n\u001b[1;32m--> 272\u001b[0m     \u001b[39mreturn\u001b[39;00m \u001b[39mself\u001b[39;49m\u001b[39m.\u001b[39;49mto_html()\n\u001b[0;32m    273\u001b[0m \u001b[39mreturn\u001b[39;00m \u001b[39mNone\u001b[39;00m\n",
      "File \u001b[1;32mc:\\Users\\Brant Daye\\anaconda3\\lib\\site-packages\\pandas\\io\\formats\\style.py:1178\u001b[0m, in \u001b[0;36mStyler.to_html\u001b[1;34m(self, buf, table_uuid, table_attributes, sparse_index, sparse_columns, bold_headers, caption, max_rows, max_columns, encoding, doctype_html, exclude_styles, **kwargs)\u001b[0m\n\u001b[0;32m   1176\u001b[0m encoding \u001b[39m=\u001b[39m encoding \u001b[39mor\u001b[39;00m get_option(\u001b[39m\"\u001b[39m\u001b[39mstyler.render.encoding\u001b[39m\u001b[39m\"\u001b[39m)\n\u001b[0;32m   1177\u001b[0m \u001b[39m# Build HTML string..\u001b[39;00m\n\u001b[1;32m-> 1178\u001b[0m html \u001b[39m=\u001b[39m obj\u001b[39m.\u001b[39m_render_html(\n\u001b[0;32m   1179\u001b[0m     sparse_index\u001b[39m=\u001b[39msparse_index,\n\u001b[0;32m   1180\u001b[0m     sparse_columns\u001b[39m=\u001b[39msparse_columns,\n\u001b[0;32m   1181\u001b[0m     max_rows\u001b[39m=\u001b[39mmax_rows,\n\u001b[0;32m   1182\u001b[0m     max_cols\u001b[39m=\u001b[39mmax_columns,\n\u001b[0;32m   1183\u001b[0m     exclude_styles\u001b[39m=\u001b[39mexclude_styles,\n\u001b[0;32m   1184\u001b[0m     encoding\u001b[39m=\u001b[39mencoding,\n\u001b[0;32m   1185\u001b[0m     doctype_html\u001b[39m=\u001b[39mdoctype_html,\n\u001b[0;32m   1186\u001b[0m     \u001b[39m*\u001b[39m\u001b[39m*\u001b[39mkwargs,\n\u001b[0;32m   1187\u001b[0m )\n\u001b[0;32m   1189\u001b[0m \u001b[39mreturn\u001b[39;00m save_to_buffer(\n\u001b[0;32m   1190\u001b[0m     html, buf\u001b[39m=\u001b[39mbuf, encoding\u001b[39m=\u001b[39m(encoding \u001b[39mif\u001b[39;00m buf \u001b[39mis\u001b[39;00m \u001b[39mnot\u001b[39;00m \u001b[39mNone\u001b[39;00m \u001b[39melse\u001b[39;00m \u001b[39mNone\u001b[39;00m)\n\u001b[0;32m   1191\u001b[0m )\n",
      "File \u001b[1;32mc:\\Users\\Brant Daye\\anaconda3\\lib\\site-packages\\pandas\\io\\formats\\style_render.py:164\u001b[0m, in \u001b[0;36mStylerRenderer._render_html\u001b[1;34m(self, sparse_index, sparse_columns, max_rows, max_cols, **kwargs)\u001b[0m\n\u001b[0;32m    162\u001b[0m \u001b[39mself\u001b[39m\u001b[39m.\u001b[39m_compute()\n\u001b[0;32m    163\u001b[0m \u001b[39m# TODO: namespace all the pandas keys\u001b[39;00m\n\u001b[1;32m--> 164\u001b[0m d \u001b[39m=\u001b[39m \u001b[39mself\u001b[39;49m\u001b[39m.\u001b[39;49m_translate(sparse_index, sparse_columns, max_rows, max_cols)\n\u001b[0;32m    165\u001b[0m d\u001b[39m.\u001b[39mupdate(kwargs)\n\u001b[0;32m    166\u001b[0m \u001b[39mreturn\u001b[39;00m \u001b[39mself\u001b[39m\u001b[39m.\u001b[39mtemplate_html\u001b[39m.\u001b[39mrender(\n\u001b[0;32m    167\u001b[0m     \u001b[39m*\u001b[39m\u001b[39m*\u001b[39md,\n\u001b[0;32m    168\u001b[0m     html_table_tpl\u001b[39m=\u001b[39m\u001b[39mself\u001b[39m\u001b[39m.\u001b[39mtemplate_html_table,\n\u001b[0;32m    169\u001b[0m     html_style_tpl\u001b[39m=\u001b[39m\u001b[39mself\u001b[39m\u001b[39m.\u001b[39mtemplate_html_style,\n\u001b[0;32m    170\u001b[0m )\n",
      "File \u001b[1;32mc:\\Users\\Brant Daye\\anaconda3\\lib\\site-packages\\pandas\\io\\formats\\style_render.py:279\u001b[0m, in \u001b[0;36mStylerRenderer._translate\u001b[1;34m(self, sparse_index, sparse_cols, max_rows, max_cols, blank)\u001b[0m\n\u001b[0;32m    273\u001b[0m \u001b[39mself\u001b[39m\u001b[39m.\u001b[39mcellstyle_map: DefaultDict[\u001b[39mtuple\u001b[39m[CSSPair, \u001b[39m.\u001b[39m\u001b[39m.\u001b[39m\u001b[39m.\u001b[39m], \u001b[39mlist\u001b[39m[\u001b[39mstr\u001b[39m]] \u001b[39m=\u001b[39m defaultdict(\n\u001b[0;32m    274\u001b[0m     \u001b[39mlist\u001b[39m\n\u001b[0;32m    275\u001b[0m )\n\u001b[0;32m    276\u001b[0m \u001b[39mself\u001b[39m\u001b[39m.\u001b[39mcellstyle_map_index: DefaultDict[\n\u001b[0;32m    277\u001b[0m     \u001b[39mtuple\u001b[39m[CSSPair, \u001b[39m.\u001b[39m\u001b[39m.\u001b[39m\u001b[39m.\u001b[39m], \u001b[39mlist\u001b[39m[\u001b[39mstr\u001b[39m]\n\u001b[0;32m    278\u001b[0m ] \u001b[39m=\u001b[39m defaultdict(\u001b[39mlist\u001b[39m)\n\u001b[1;32m--> 279\u001b[0m body \u001b[39m=\u001b[39m \u001b[39mself\u001b[39;49m\u001b[39m.\u001b[39;49m_translate_body(idx_lengths, max_rows, max_cols)\n\u001b[0;32m    280\u001b[0m d\u001b[39m.\u001b[39mupdate({\u001b[39m\"\u001b[39m\u001b[39mbody\u001b[39m\u001b[39m\"\u001b[39m: body})\n\u001b[0;32m    282\u001b[0m ctx_maps \u001b[39m=\u001b[39m {\n\u001b[0;32m    283\u001b[0m     \u001b[39m\"\u001b[39m\u001b[39mcellstyle\u001b[39m\u001b[39m\"\u001b[39m: \u001b[39m\"\u001b[39m\u001b[39mcellstyle_map\u001b[39m\u001b[39m\"\u001b[39m,\n\u001b[0;32m    284\u001b[0m     \u001b[39m\"\u001b[39m\u001b[39mcellstyle_index\u001b[39m\u001b[39m\"\u001b[39m: \u001b[39m\"\u001b[39m\u001b[39mcellstyle_map_index\u001b[39m\u001b[39m\"\u001b[39m,\n\u001b[0;32m    285\u001b[0m     \u001b[39m\"\u001b[39m\u001b[39mcellstyle_columns\u001b[39m\u001b[39m\"\u001b[39m: \u001b[39m\"\u001b[39m\u001b[39mcellstyle_map_columns\u001b[39m\u001b[39m\"\u001b[39m,\n\u001b[0;32m    286\u001b[0m }  \u001b[39m# add the cell_ids styles map to the render dictionary in right format\u001b[39;00m\n",
      "File \u001b[1;32mc:\\Users\\Brant Daye\\anaconda3\\lib\\site-packages\\pandas\\io\\formats\\style_render.py:566\u001b[0m, in \u001b[0;36mStylerRenderer._translate_body\u001b[1;34m(self, idx_lengths, max_rows, max_cols)\u001b[0m\n\u001b[0;32m    564\u001b[0m         body\u001b[39m.\u001b[39mappend(trimmed_row)\n\u001b[0;32m    565\u001b[0m         \u001b[39mbreak\u001b[39;00m\n\u001b[1;32m--> 566\u001b[0m     body_row \u001b[39m=\u001b[39m \u001b[39mself\u001b[39;49m\u001b[39m.\u001b[39;49m_generate_body_row(\n\u001b[0;32m    567\u001b[0m         (r, row_tup, rlabels), max_cols, idx_lengths\n\u001b[0;32m    568\u001b[0m     )\n\u001b[0;32m    569\u001b[0m     body\u001b[39m.\u001b[39mappend(body_row)\n\u001b[0;32m    570\u001b[0m \u001b[39mreturn\u001b[39;00m body\n",
      "File \u001b[1;32mc:\\Users\\Brant Daye\\anaconda3\\lib\\site-packages\\pandas\\io\\formats\\style_render.py:733\u001b[0m, in \u001b[0;36mStylerRenderer._generate_body_row\u001b[1;34m(self, iter, max_cols, idx_lengths)\u001b[0m\n\u001b[0;32m    721\u001b[0m \u001b[39mif\u001b[39;00m (r, c) \u001b[39min\u001b[39;00m \u001b[39mself\u001b[39m\u001b[39m.\u001b[39mcell_context:\n\u001b[0;32m    722\u001b[0m     \u001b[39mcls\u001b[39m \u001b[39m=\u001b[39m \u001b[39m\"\u001b[39m\u001b[39m \u001b[39m\u001b[39m\"\u001b[39m \u001b[39m+\u001b[39m \u001b[39mself\u001b[39m\u001b[39m.\u001b[39mcell_context[r, c]\n\u001b[0;32m    724\u001b[0m data_element \u001b[39m=\u001b[39m _element(\n\u001b[0;32m    725\u001b[0m     \u001b[39m\"\u001b[39m\u001b[39mtd\u001b[39m\u001b[39m\"\u001b[39m,\n\u001b[0;32m    726\u001b[0m     (\n\u001b[0;32m    727\u001b[0m         \u001b[39mf\u001b[39m\u001b[39m\"\u001b[39m\u001b[39m{\u001b[39;00m\u001b[39mself\u001b[39m\u001b[39m.\u001b[39mcss[\u001b[39m'\u001b[39m\u001b[39mdata\u001b[39m\u001b[39m'\u001b[39m]\u001b[39m}\u001b[39;00m\u001b[39m \u001b[39m\u001b[39m{\u001b[39;00m\u001b[39mself\u001b[39m\u001b[39m.\u001b[39mcss[\u001b[39m'\u001b[39m\u001b[39mrow\u001b[39m\u001b[39m'\u001b[39m]\u001b[39m}\u001b[39;00m\u001b[39m{\u001b[39;00mr\u001b[39m}\u001b[39;00m\u001b[39m \u001b[39m\u001b[39m\"\u001b[39m\n\u001b[0;32m    728\u001b[0m         \u001b[39mf\u001b[39m\u001b[39m\"\u001b[39m\u001b[39m{\u001b[39;00m\u001b[39mself\u001b[39m\u001b[39m.\u001b[39mcss[\u001b[39m'\u001b[39m\u001b[39mcol\u001b[39m\u001b[39m'\u001b[39m]\u001b[39m}\u001b[39;00m\u001b[39m{\u001b[39;00mc\u001b[39m}\u001b[39;00m\u001b[39m{\u001b[39;00m\u001b[39mcls\u001b[39m\u001b[39m}\u001b[39;00m\u001b[39m\"\u001b[39m\n\u001b[0;32m    729\u001b[0m     ),\n\u001b[0;32m    730\u001b[0m     value,\n\u001b[0;32m    731\u001b[0m     data_element_visible,\n\u001b[0;32m    732\u001b[0m     attributes\u001b[39m=\u001b[39m\u001b[39m\"\u001b[39m\u001b[39m\"\u001b[39m,\n\u001b[1;32m--> 733\u001b[0m     display_value\u001b[39m=\u001b[39m\u001b[39mself\u001b[39;49m\u001b[39m.\u001b[39;49m_display_funcs[(r, c)](value),\n\u001b[0;32m    734\u001b[0m )\n\u001b[0;32m    736\u001b[0m \u001b[39mif\u001b[39;00m \u001b[39mself\u001b[39m\u001b[39m.\u001b[39mcell_ids:\n\u001b[0;32m    737\u001b[0m     data_element[\u001b[39m\"\u001b[39m\u001b[39mid\u001b[39m\u001b[39m\"\u001b[39m] \u001b[39m=\u001b[39m \u001b[39mf\u001b[39m\u001b[39m\"\u001b[39m\u001b[39m{\u001b[39;00m\u001b[39mself\u001b[39m\u001b[39m.\u001b[39mcss[\u001b[39m'\u001b[39m\u001b[39mrow\u001b[39m\u001b[39m'\u001b[39m]\u001b[39m}\u001b[39;00m\u001b[39m{\u001b[39;00mr\u001b[39m}\u001b[39;00m\u001b[39m_\u001b[39m\u001b[39m{\u001b[39;00m\u001b[39mself\u001b[39m\u001b[39m.\u001b[39mcss[\u001b[39m'\u001b[39m\u001b[39mcol\u001b[39m\u001b[39m'\u001b[39m]\u001b[39m}\u001b[39;00m\u001b[39m{\u001b[39;00mc\u001b[39m}\u001b[39;00m\u001b[39m\"\u001b[39m\n",
      "File \u001b[1;32mc:\\Users\\Brant Daye\\anaconda3\\lib\\site-packages\\pandas\\io\\formats\\style_render.py:1517\u001b[0m, in \u001b[0;36m_maybe_wrap_formatter.<locals>.<lambda>\u001b[1;34m(x)\u001b[0m\n\u001b[0;32m   1515\u001b[0m \u001b[39m# Get initial func from input string, input callable, or from default factory\u001b[39;00m\n\u001b[0;32m   1516\u001b[0m \u001b[39mif\u001b[39;00m \u001b[39misinstance\u001b[39m(formatter, \u001b[39mstr\u001b[39m):\n\u001b[1;32m-> 1517\u001b[0m     func_0 \u001b[39m=\u001b[39m \u001b[39mlambda\u001b[39;00m x: formatter\u001b[39m.\u001b[39;49mformat(x)\n\u001b[0;32m   1518\u001b[0m \u001b[39melif\u001b[39;00m callable(formatter):\n\u001b[0;32m   1519\u001b[0m     func_0 \u001b[39m=\u001b[39m formatter\n",
      "\u001b[1;31mKeyError\u001b[0m: '$'"
     ]
    },
    {
     "data": {
      "text/plain": [
       "<pandas.io.formats.style.Styler at 0x242ad2875b0>"
      ]
     },
     "execution_count": 156,
>>>>>>> 82efbe6df8853968b957dc008f8940dea3b108e3
     "metadata": {},
     "output_type": "execute_result"
    }
   ],
   "source": [
    "#  8. Format the columns.\n",
<<<<<<< HEAD
    "summary_format_df1 = summary_df.style.format({\n",
    "    'Total Rides': '{:,d}',\n",
    "    'Total Drivers': '{:,d}',\n",
    "    'Total Fares': '${:20,.0f}',\n",
    "    'Average Fare per Ride': '${:}',\n",
    "    'Average Fare per Driver':'${:}'\n",
    "    })\n",
    "\n",
    "summary_format_df1\n"
=======
    "\n",
    "format_table = summary_table.style.format({\"Total Rides\": \"${:,.2f}\",\"Total Drivers\": \"{$:,d}\",\"Total Fares\": \"$'{:,.2f}'\",\"Average Fare per Ride\": \"${:,.2f}\",\"Average Fare per Driver\": \"${:,.2f}\"})\n",
    "\n",
    "format_table"
>>>>>>> 82efbe6df8853968b957dc008f8940dea3b108e3
   ]
  },
  {
   "cell_type": "markdown",
   "metadata": {},
   "source": [
<<<<<<< HEAD
    "## Deliverable 2.  Create a multiple line plot that shows the total weekly of the fares for each type of city."
=======
    "## Deliverable 2: A multiple-line chart of total fares for each city type "
>>>>>>> 82efbe6df8853968b957dc008f8940dea3b108e3
   ]
  },
  {
   "cell_type": "code",
   "execution_count": null,
   "metadata": {},
   "outputs": [],
   "source": [
    "# 1. Read the merged DataFrame\n",
<<<<<<< HEAD
    "pyber_data_df.head(15)"
=======
    "pyber_data_df.info()"
   ]
  },
  {
   "cell_type": "code",
   "execution_count": null,
   "metadata": {},
   "outputs": [],
   "source": [
    "# 1. Read the merged DataFrame\n",
    "pyber_data_df.info()"
>>>>>>> 82efbe6df8853968b957dc008f8940dea3b108e3
   ]
  },
  {
   "cell_type": "code",
   "execution_count": null,
   "metadata": {},
   "outputs": [],
   "source": [
    "# 2. Using groupby() to create a new DataFrame showing the sum of the fares \n",
<<<<<<< HEAD
    "#  for each date where the indices are the city type and date.\n",
    "new_pyber_df = pyber_data_df.groupby(['type','date']).sum()['fare']\n",
    "new_pyber_df.head()"
=======
    "#  for each date where the indices are the city type and date.\n"
>>>>>>> 82efbe6df8853968b957dc008f8940dea3b108e3
   ]
  },
  {
   "cell_type": "code",
   "execution_count": null,
   "metadata": {},
   "outputs": [],
   "source": [
    "# 3. Reset the index on the DataFrame you created in #1. This is needed to use the 'pivot()' function.\n",
<<<<<<< HEAD
    "new_pyber_df = new_pyber_df.reset_index()\n",
    "new_pyber_df\n"
=======
    "# df = df.reset_index()\n"
>>>>>>> 82efbe6df8853968b957dc008f8940dea3b108e3
   ]
  },
  {
   "cell_type": "code",
   "execution_count": null,
   "metadata": {},
   "outputs": [],
   "source": [
    "# 4. Create a pivot table with the 'date' as the index, the columns ='type', and values='fare' \n",
<<<<<<< HEAD
    "# to get the total fares for each type of city by the date. \n",
    "pivot_pyber_df = new_pyber_df.pivot(index='date', columns='type', values='fare')\n",
    "pivot_pyber_df "
=======
    "# to get the total fares for each type of city by the date. \n"
>>>>>>> 82efbe6df8853968b957dc008f8940dea3b108e3
   ]
  },
  {
   "cell_type": "code",
   "execution_count": null,
   "metadata": {},
   "outputs": [],
   "source": [
    "# 5. Create a new DataFrame from the pivot table DataFrame using loc on the given dates, '2019-01-01':'2019-04-29'.\n",
<<<<<<< HEAD
    "loc_pivot_df = pivot_pyber_df.loc['2019-01-01']\n"
=======
    "\n"
>>>>>>> 82efbe6df8853968b957dc008f8940dea3b108e3
   ]
  },
  {
   "cell_type": "code",
   "execution_count": null,
   "metadata": {},
   "outputs": [],
   "source": [
    "# 6. Set the \"date\" index to datetime datatype. This is necessary to use the resample() method in Step 8.\n",
    "# df.index = pd.to_datetime(df.index)"
   ]
  },
  {
   "cell_type": "code",
   "execution_count": null,
   "metadata": {},
   "outputs": [],
   "source": [
    "# 7. Check that the datatype for the index is datetime using df.info()\n"
   ]
  },
  {
   "cell_type": "code",
   "execution_count": null,
   "metadata": {},
   "outputs": [],
   "source": [
    "# 8. Create a new DataFrame using the \"resample()\" function by week 'W' and get the sum of the fares for each week.\n"
   ]
  },
  {
   "cell_type": "code",
   "execution_count": null,
   "metadata": {},
   "outputs": [],
   "source": [
    "# 8. Using the object-oriented interface method, plot the resample DataFrame using the df.plot() function. \n",
    "\n",
    "# Import the style from Matplotlib.\n",
    "from matplotlib import style\n",
    "# Use the graph style fivethirtyeight.\n",
    "style.use('fivethirtyeight')\n",
    "\n"
   ]
  },
  {
   "cell_type": "code",
   "execution_count": null,
   "metadata": {},
   "outputs": [],
   "source": []
  }
 ],
 "metadata": {
  "anaconda-cloud": {},
  "kernelspec": {
   "display_name": "Python 3.9.12 ('base')",
   "language": "python",
   "name": "python3"
  },
  "language_info": {
   "codemirror_mode": {
    "name": "ipython",
    "version": 3
   },
   "file_extension": ".py",
   "mimetype": "text/x-python",
   "name": "python",
   "nbconvert_exporter": "python",
   "pygments_lexer": "ipython3",
   "version": "3.9.12"
  },
  "vscode": {
   "interpreter": {
    "hash": "8460d4379f2db7ca1790c309fa08bdb08e0415783bba4b95e23aac2b72fbbcd2"
   }
  }
 },
 "nbformat": 4,
 "nbformat_minor": 2
}
